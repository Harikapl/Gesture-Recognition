{
 "cells": [
  {
   "cell_type": "markdown",
   "metadata": {},
   "source": [
    "# Gesture Recognition\n",
    "In this group project, you are going to build a 3D Conv model that will be able to predict the 5 gestures correctly. Please import the following libraries to get started."
   ]
  },
  {
   "cell_type": "code",
   "execution_count": 38,
   "metadata": {},
   "outputs": [],
   "source": [
    "import numpy as np\n",
    "import os\n",
    "from scipy.misc import imread, imresize\n",
    "import datetime\n",
    "import os\n",
    "import matplotlib.pyplot as plt\n",
    "import seaborn as sns"
   ]
  },
  {
   "cell_type": "markdown",
   "metadata": {},
   "source": [
    "We set the random seed so that the results don't vary drastically."
   ]
  },
  {
   "cell_type": "code",
   "execution_count": 39,
   "metadata": {},
   "outputs": [],
   "source": [
    "np.random.seed(30)\n",
    "import random as rn\n",
    "rn.seed(30)\n",
    "from keras import backend as K\n",
    "import tensorflow as tf\n",
    "tf.set_random_seed(30)"
   ]
  },
  {
   "cell_type": "markdown",
   "metadata": {},
   "source": [
    "In this block, you read the folder names for training and validation. You also set the `batch_size` here. Note that you set the batch size in such a way that you are able to use the GPU in full capacity. You keep increasing the batch size until the machine throws an error."
   ]
  },
  {
   "cell_type": "code",
   "execution_count": 40,
   "metadata": {},
   "outputs": [],
   "source": [
    "train_doc = np.random.permutation(open('Project_data/train.csv').readlines())\n",
    "val_doc = np.random.permutation(open('Project_data/val.csv').readlines())\n",
    "batch_size = 20\n",
    "num_classes = 5\n",
    "img_rows, img_cols =100,100\n",
    "input_shape = (30,img_rows, img_cols, 3)"
   ]
  },
  {
   "cell_type": "code",
   "execution_count": 41,
   "metadata": {},
   "outputs": [
    {
     "data": {
      "text/plain": [
       "663"
      ]
     },
     "execution_count": 41,
     "metadata": {},
     "output_type": "execute_result"
    }
   ],
   "source": [
    "train_doc.size"
   ]
  },
  {
   "cell_type": "markdown",
   "metadata": {},
   "source": [
    "## Generator\n",
    "This is one of the most important part of the code. The overall structure of the generator has been given. In the generator, you are going to preprocess the images as you have images of 2 different dimensions as well as create a batch of video frames. You have to experiment with `img_idx`, `y`,`z` and normalization such that you get high accuracy."
   ]
  },
  {
   "cell_type": "code",
   "execution_count": 42,
   "metadata": {},
   "outputs": [],
   "source": [
    "def generator(source_path, folder_list, batch_size):\n",
    "    print( 'Source path = ', source_path, '; batch size =', batch_size)\n",
    "    img_idx = list(range(0, 30))\n",
    "    while True:\n",
    "        t = np.random.permutation(folder_list)\n",
    "        num_batches = int(folder_list.size/batch_size)\n",
    "        print('num_batches:'+str(num_batches)+', folder_list.size:'+str(folder_list.size))\n",
    "        for batch in range(num_batches): # we iterate over the number of batches\n",
    "            batch_data = np.zeros((batch_size,30,img_rows,img_cols,3)) # x is the number of images you use for each video, (y,z) is the final size of the input images and 3 is the number of channels RGB\n",
    "            batch_labels = np.zeros((batch_size,num_classes)) # batch_labels is the one hot representation of the output\n",
    "            for folder in range(batch_size): # iterate over the batch_size\n",
    "#                 print(folder)\n",
    "#                 print(t[folder + (batch*batch_size)])\n",
    "                imgs = os.listdir(source_path+'/'+ t[folder + (batch*batch_size)].split(';')[0]) # read all the images in the folder\n",
    "                for idx,item in enumerate(img_idx): #  Iterate iver the frames/images of a folder to read them in\n",
    "                    image = imread(source_path+'/'+ t[folder + (batch*batch_size)].strip().split(';')[0]+'/'+imgs[item]).astype(np.float32)\n",
    "                    \n",
    "                    #crop the images and resize them. Note that the images are of 2 different shape \n",
    "                    #and the conv3D will throw error if the inputs in a batch have different shapes\n",
    "                    image=imresize(image, (100,100))\n",
    "                    image=image/255.0\n",
    "                    batch_data[folder,idx,:,:,0] = image[:, : , 0]\n",
    "                    batch_data[folder,idx,:,:,1] = image[:, : , 1]\n",
    "                    batch_data[folder,idx,:,:,2] = image[:, : , 2]\n",
    "                    \n",
    "                batch_labels[folder, int(t[folder + (batch*batch_size)].strip().split(';')[2])] = 1\n",
    "            yield batch_data, batch_labels #you yield the batch_data and the batch_labels, remember what does yield do\n",
    "\n",
    "        \n",
    "        if(folder_list.size%batch_size>0):\n",
    "#            print('remaining')\n",
    "            batch_data = np.zeros((batch_size,30,img_rows,img_cols,3)) # x is the number of images you use for each video, (y,z) is the final size of the input images and 3 is the number of channels RGB\n",
    "            batch_labels = np.zeros((batch_size,num_classes)) # batch_labels is the one hot representation of the output\n",
    "            for folder in range(folder_list.size%batch_size): # iterate over the batch_size\n",
    "#                 print(folder)\n",
    "#                 print(folder + (batch*batch_size))\n",
    "#                 print(folder + ((num_batches)*batch_size))\n",
    "                imgs = os.listdir(source_path+'/'+ t[folder + ((num_batches)*batch_size)].split(';')[0]) # read all the images in the folder\n",
    "                for idx,item in enumerate(img_idx): #  Iterate iver the frames/images of a folder to read them in\n",
    "                    image = imread(source_path+'/'+ t[folder + ((num_batches)*batch_size)].strip().split(';')[0]+'/'+imgs[item]).astype(np.float32)\n",
    "                    \n",
    "                    #crop the images and resize them. Note that the images are of 2 different shape \n",
    "                    #and the conv3D will throw error if the inputs in a batch have different shapes\n",
    "                    image=imresize(image, (100,100))\n",
    "                    image=image/255.0\n",
    "                    batch_data[folder,idx,:,:,0] = image[:, : , 0]\n",
    "                    batch_data[folder,idx,:,:,1] = image[:, : , 1]\n",
    "                    batch_data[folder,idx,:,:,2] = image[:, : , 2]\n",
    "                    \n",
    "                batch_labels[folder, int(t[folder + (batch*batch_size)].strip().split(';')[2])] = 1\n",
    "            yield batch_data, batch_labels #you yield the batch_data and the batch_labels, remember what does yield do"
   ]
  },
  {
   "cell_type": "code",
   "execution_count": 43,
   "metadata": {},
   "outputs": [],
   "source": [
    "#a = generator('Project_data/train', train_doc, batch_size)"
   ]
  },
  {
   "cell_type": "code",
   "execution_count": 44,
   "metadata": {},
   "outputs": [],
   "source": [
    "# for i in generator('Project_data/train', train_doc, batch_size):\n",
    "#     print(i)"
   ]
  },
  {
   "cell_type": "markdown",
   "metadata": {},
   "source": [
    "Note here that a video is represented above in the generator as (number of images, height, width, number of channels). Take this into consideration while creating the model architecture."
   ]
  },
  {
   "cell_type": "code",
   "execution_count": 45,
   "metadata": {},
   "outputs": [
    {
     "name": "stdout",
     "output_type": "stream",
     "text": [
      "# training sequences = 663\n",
      "# validation sequences = 100\n",
      "# epochs = 15\n"
     ]
    }
   ],
   "source": [
    "curr_dt_time = datetime.datetime.now()\n",
    "train_path = 'Project_data/train'\n",
    "val_path = 'Project_data/val'\n",
    "num_train_sequences = len(train_doc)\n",
    "print('# training sequences =', num_train_sequences)\n",
    "num_val_sequences = len(val_doc)\n",
    "print('# validation sequences =', num_val_sequences)\n",
    "num_epochs = 15\n",
    "print ('# epochs =', num_epochs)"
   ]
  },
  {
   "cell_type": "markdown",
   "metadata": {},
   "source": [
    "## Model\n",
    "Here you make the model using different functionalities that Keras provides. Remember to use `Conv3D` and `MaxPooling3D` and not `Conv2D` and `Maxpooling2D` for a 3D convolution model. You would want to use `TimeDistributed` while building a Conv2D + RNN model. Also remember that the last layer is the softmax. Design the network in such a way that the model is able to give good accuracy on the least number of parameters so that it can fit in the memory of the webcam."
   ]
  },
  {
   "cell_type": "code",
   "execution_count": 46,
   "metadata": {},
   "outputs": [
    {
     "data": {
      "text/plain": [
       "(30, 100, 100, 3)"
      ]
     },
     "execution_count": 46,
     "metadata": {},
     "output_type": "execute_result"
    }
   ],
   "source": [
    "input_shape"
   ]
  },
  {
   "cell_type": "code",
   "execution_count": 47,
   "metadata": {},
   "outputs": [
    {
     "name": "stdout",
     "output_type": "stream",
     "text": [
      "(None, 30, 98, 98, 8)\n",
      "(None, 30, 49, 49, 8)\n",
      "(None, 30, 47, 47, 16)\n",
      "(None, 30, 23, 23, 16)\n",
      "(None, 30, 21, 21, 32)\n",
      "(None, 30, 10, 10, 32)\n",
      "(None, 30, 8, 8, 64)\n",
      "(None, 30, 4, 4, 64)\n",
      "(None, 30, 1024)\n",
      "(None, 128)\n",
      "(None, 5)\n"
     ]
    }
   ],
   "source": [
    "from keras.models import Sequential, Model\n",
    "from keras.layers import Dense, GRU, Flatten, TimeDistributed, Flatten, BatchNormalization, Activation,Dropout,LSTM\n",
    "from keras.layers.convolutional import Conv2D, MaxPooling2D\n",
    "from keras.callbacks import ModelCheckpoint, ReduceLROnPlateau,EarlyStopping\n",
    "from keras import optimizers\n",
    "\n",
    "#try different parameters\n",
    "model = Sequential()\n",
    "model.add(TimeDistributed(Conv2D(8, (3,3),activation = 'relu'), input_shape=input_shape))\n",
    "print(model.output_shape)\n",
    "model.add(TimeDistributed(MaxPooling2D(pool_size=(2, 2))))\n",
    "print(model.output_shape)\n",
    "model.add(TimeDistributed(Conv2D(16, (3,3),activation = 'relu')))\n",
    "print(model.output_shape)\n",
    "model.add(TimeDistributed(MaxPooling2D(pool_size=(2, 2))))\n",
    "print(model.output_shape)\n",
    "model.add(TimeDistributed(Conv2D(32, (3,3),activation = 'relu')))\n",
    "print(model.output_shape)\n",
    "model.add(TimeDistributed(MaxPooling2D(pool_size=(2, 2))))\n",
    "print(model.output_shape)\n",
    "model.add(TimeDistributed(Conv2D(64, (3,3),activation = 'relu')))\n",
    "print(model.output_shape)\n",
    "model.add(TimeDistributed(MaxPooling2D(pool_size=(2, 2))))\n",
    "print(model.output_shape)\n",
    "model.add(TimeDistributed(Flatten()))\n",
    "print(model.output_shape)\n",
    "#define LSTM model\n",
    "model.add(Dropout(0.4))\n",
    "model.add(LSTM(128,return_sequences=False, dropout=0.4))\n",
    "print(model.output_shape)\n",
    "model.add(Dense(num_classes, activation='softmax'))\n",
    "print(model.output_shape)"
   ]
  },
  {
   "cell_type": "markdown",
   "metadata": {},
   "source": [
    "Now that you have written the model, the next step is to `compile` the model. When you print the `summary` of the model, you'll see the total number of parameters you have to train."
   ]
  },
  {
   "cell_type": "code",
   "execution_count": 48,
   "metadata": {
    "scrolled": true
   },
   "outputs": [
    {
     "name": "stdout",
     "output_type": "stream",
     "text": [
      "_________________________________________________________________\n",
      "Layer (type)                 Output Shape              Param #   \n",
      "=================================================================\n",
      "time_distributed_19 (TimeDis (None, 30, 98, 98, 8)     224       \n",
      "_________________________________________________________________\n",
      "time_distributed_20 (TimeDis (None, 30, 49, 49, 8)     0         \n",
      "_________________________________________________________________\n",
      "time_distributed_21 (TimeDis (None, 30, 47, 47, 16)    1168      \n",
      "_________________________________________________________________\n",
      "time_distributed_22 (TimeDis (None, 30, 23, 23, 16)    0         \n",
      "_________________________________________________________________\n",
      "time_distributed_23 (TimeDis (None, 30, 21, 21, 32)    4640      \n",
      "_________________________________________________________________\n",
      "time_distributed_24 (TimeDis (None, 30, 10, 10, 32)    0         \n",
      "_________________________________________________________________\n",
      "time_distributed_25 (TimeDis (None, 30, 8, 8, 64)      18496     \n",
      "_________________________________________________________________\n",
      "time_distributed_26 (TimeDis (None, 30, 4, 4, 64)      0         \n",
      "_________________________________________________________________\n",
      "time_distributed_27 (TimeDis (None, 30, 1024)          0         \n",
      "_________________________________________________________________\n",
      "dropout_3 (Dropout)          (None, 30, 1024)          0         \n",
      "_________________________________________________________________\n",
      "lstm_3 (LSTM)                (None, 128)               590336    \n",
      "_________________________________________________________________\n",
      "dense_3 (Dense)              (None, 5)                 645       \n",
      "=================================================================\n",
      "Total params: 615,509\n",
      "Trainable params: 615,509\n",
      "Non-trainable params: 0\n",
      "_________________________________________________________________\n",
      "None\n"
     ]
    }
   ],
   "source": [
    "optimiser = 'adam'\n",
    "model.compile(optimizer=optimiser, loss='categorical_crossentropy', metrics=['categorical_accuracy'])\n",
    "model.build(input_shape)\n",
    "print (model.summary())"
   ]
  },
  {
   "cell_type": "markdown",
   "metadata": {},
   "source": [
    "Let us create the `train_generator` and the `val_generator` which will be used in `.fit_generator`."
   ]
  },
  {
   "cell_type": "code",
   "execution_count": 49,
   "metadata": {},
   "outputs": [],
   "source": [
    "train_generator = generator(train_path, train_doc, batch_size)\n",
    "val_generator = generator(val_path, val_doc, batch_size)"
   ]
  },
  {
   "cell_type": "code",
   "execution_count": 50,
   "metadata": {},
   "outputs": [
    {
     "data": {
      "text/plain": [
       "<generator object generator at 0x000001FE82454EB8>"
      ]
     },
     "execution_count": 50,
     "metadata": {},
     "output_type": "execute_result"
    }
   ],
   "source": [
    "train_generator"
   ]
  },
  {
   "cell_type": "code",
   "execution_count": 51,
   "metadata": {},
   "outputs": [],
   "source": [
    "model_name = 'model_init' + '_' + str(curr_dt_time).replace(' ','').replace(':','_') + '/'\n",
    "    \n",
    "if not os.path.exists(model_name):\n",
    "    os.mkdir(model_name)\n",
    "        \n",
    "filepath = model_name + 'model-{epoch:05d}-{loss:.5f}-{categorical_accuracy:.5f}-{val_loss:.5f}-{val_categorical_accuracy:.5f}.h5'\n",
    "\n",
    "checkpoint = ModelCheckpoint(filepath, monitor='val_loss', verbose=1, save_best_only=False, save_weights_only=False, mode='auto', period=1)\n",
    "\n",
    "LR = ReduceLROnPlateau(monitor='val_loss', factor=0.3,verbose=1,\n",
    "                              patience=5, min_lr=0.0001)\n",
    "#es = EarlyStopping(monitor='val_loss', mode='min', verbose=1,patience=5)\n",
    "callbacks_list = [checkpoint, LR]"
   ]
  },
  {
   "cell_type": "markdown",
   "metadata": {},
   "source": [
    "The `steps_per_epoch` and `validation_steps` are used by `fit_generator` to decide the number of next() calls it need to make."
   ]
  },
  {
   "cell_type": "code",
   "execution_count": 52,
   "metadata": {},
   "outputs": [],
   "source": [
    "if (num_train_sequences%batch_size) == 0:\n",
    "    steps_per_epoch = int(num_train_sequences/batch_size)\n",
    "else:\n",
    "    steps_per_epoch = (num_train_sequences//batch_size) + 1\n",
    "\n",
    "if (num_val_sequences%batch_size) == 0:\n",
    "    validation_steps = int(num_val_sequences/batch_size)\n",
    "else:\n",
    "    validation_steps = (num_val_sequences//batch_size) + 1"
   ]
  },
  {
   "cell_type": "markdown",
   "metadata": {},
   "source": [
    "Let us now fit the model. This will start training the model and with the help of the checkpoints, you'll be able to save the model at the end of each epoch."
   ]
  },
  {
   "cell_type": "code",
   "execution_count": 53,
   "metadata": {},
   "outputs": [
    {
     "name": "stdout",
     "output_type": "stream",
     "text": [
      "Epoch 1/15\n",
      "Source path =  Project_data/val ; batch size = 20\n",
      "num_batches:5, folder_list.size:100\n",
      "Source path =  Project_data/train ; batch size = 20\n",
      "num_batches:33, folder_list.size:663\n"
     ]
    },
    {
     "name": "stderr",
     "output_type": "stream",
     "text": [
      "C:\\Users\\reddi\\Anaconda3\\envs\\tensorflow\\lib\\site-packages\\ipykernel_launcher.py:16: DeprecationWarning: `imread` is deprecated!\n",
      "`imread` is deprecated in SciPy 1.0.0, and will be removed in 1.2.0.\n",
      "Use ``imageio.imread`` instead.\n",
      "  app.launch_new_instance()\n",
      "C:\\Users\\reddi\\Anaconda3\\envs\\tensorflow\\lib\\site-packages\\ipykernel_launcher.py:20: DeprecationWarning: `imresize` is deprecated!\n",
      "`imresize` is deprecated in SciPy 1.0.0, and will be removed in 1.2.0.\n",
      "Use ``skimage.transform.resize`` instead.\n"
     ]
    },
    {
     "name": "stdout",
     "output_type": "stream",
     "text": [
      " 5/34 [===>..........................] - ETA: 2:22 - loss: 1.6203 - categorical_accuracy: 0.1500num_batches:5, folder_list.size:100\n",
      "11/34 [========>.....................] - ETA: 1:35 - loss: 1.6077 - categorical_accuracy: 0.1909num_batches:5, folder_list.size:100\n",
      "32/34 [===========================>..] - ETA: 6s - loss: 1.5898 - categorical_accuracy: 0.2359 "
     ]
    },
    {
     "name": "stderr",
     "output_type": "stream",
     "text": [
      "C:\\Users\\reddi\\Anaconda3\\envs\\tensorflow\\lib\\site-packages\\ipykernel_launcher.py:40: DeprecationWarning: `imread` is deprecated!\n",
      "`imread` is deprecated in SciPy 1.0.0, and will be removed in 1.2.0.\n",
      "Use ``imageio.imread`` instead.\n",
      "C:\\Users\\reddi\\Anaconda3\\envs\\tensorflow\\lib\\site-packages\\ipykernel_launcher.py:44: DeprecationWarning: `imresize` is deprecated!\n",
      "`imresize` is deprecated in SciPy 1.0.0, and will be removed in 1.2.0.\n",
      "Use ``skimage.transform.resize`` instead.\n"
     ]
    },
    {
     "name": "stdout",
     "output_type": "stream",
     "text": [
      "33/34 [============================>.] - ETA: 3s - loss: 1.5852 - categorical_accuracy: 0.2379num_batches:33, folder_list.size:663\n",
      "34/34 [==============================] - 116s 3s/step - loss: 1.5457 - categorical_accuracy: 0.2324 - val_loss: 1.5094 - val_categorical_accuracy: 0.3700\n",
      "\n",
      "Epoch 00001: saving model to model_init_2020-02-0818_15_45.617111/model-00001-1.54567-0.23235-1.50945-0.37000.h5\n",
      "Epoch 2/15\n",
      " 5/34 [===>..........................] - ETA: 1:28 - loss: 1.4340 - categorical_accuracy: 0.5200num_batches:5, folder_list.size:100\n",
      "32/34 [===========================>..] - ETA: 6s - loss: 1.3614 - categorical_accuracy: 0.4547num_batches:33, folder_list.size:663\n",
      "34/34 [==============================] - 104s 3s/step - loss: 1.3288 - categorical_accuracy: 0.4441 - val_loss: 1.3427 - val_categorical_accuracy: 0.4600\n",
      "\n",
      "Epoch 00002: saving model to model_init_2020-02-0818_15_45.617111/model-00002-1.32878-0.44412-1.34270-0.46000.h5\n",
      "Epoch 3/15\n",
      " 4/34 [==>...........................] - ETA: 2:05 - loss: 1.2299 - categorical_accuracy: 0.5375num_batches:5, folder_list.size:100\n",
      "32/34 [===========================>..] - ETA: 6s - loss: 1.0451 - categorical_accuracy: 0.5969num_batches:33, folder_list.size:663\n",
      "34/34 [==============================] - 104s 3s/step - loss: 1.0188 - categorical_accuracy: 0.5868 - val_loss: 1.0406 - val_categorical_accuracy: 0.6300\n",
      "\n",
      "Epoch 00003: saving model to model_init_2020-02-0818_15_45.617111/model-00003-1.01878-0.58676-1.04064-0.63000.h5\n",
      "Epoch 4/15\n",
      " 4/34 [==>...........................] - ETA: 1:50 - loss: 0.9209 - categorical_accuracy: 0.6125num_batches:5, folder_list.size:100\n",
      "33/34 [============================>.] - ETA: 3s - loss: 0.8736 - categorical_accuracy: 0.6636num_batches:33, folder_list.size:663\n",
      "34/34 [==============================] - 105s 3s/step - loss: 0.8591 - categorical_accuracy: 0.6441 - val_loss: 1.0935 - val_categorical_accuracy: 0.6000\n",
      "\n",
      "Epoch 00004: saving model to model_init_2020-02-0818_15_45.617111/model-00004-0.85908-0.64412-1.09350-0.60000.h5\n",
      "Epoch 5/15\n",
      " 4/34 [==>...........................] - ETA: 2:07 - loss: 0.9405 - categorical_accuracy: 0.6625num_batches:5, folder_list.size:100\n",
      "33/34 [============================>.] - ETA: 3s - loss: 0.7370 - categorical_accuracy: 0.7561num_batches:33, folder_list.size:663\n",
      "34/34 [==============================] - 104s 3s/step - loss: 0.7275 - categorical_accuracy: 0.7353 - val_loss: 0.8293 - val_categorical_accuracy: 0.6600\n",
      "\n",
      "Epoch 00005: saving model to model_init_2020-02-0818_15_45.617111/model-00005-0.72749-0.73529-0.82930-0.66000.h5\n",
      "Epoch 6/15\n",
      " 4/34 [==>...........................] - ETA: 1:59 - loss: 0.5501 - categorical_accuracy: 0.8125num_batches:5, folder_list.size:100\n",
      "32/34 [===========================>..] - ETA: 6s - loss: 0.5405 - categorical_accuracy: 0.8031num_batches:33, folder_list.size:663\n",
      "34/34 [==============================] - 106s 3s/step - loss: 0.5451 - categorical_accuracy: 0.7794 - val_loss: 0.6805 - val_categorical_accuracy: 0.7500\n",
      "\n",
      "Epoch 00006: saving model to model_init_2020-02-0818_15_45.617111/model-00006-0.54512-0.77941-0.68047-0.75000.h5\n",
      "Epoch 7/15\n",
      " 4/34 [==>...........................] - ETA: 1:55 - loss: 0.6144 - categorical_accuracy: 0.8125num_batches:5, folder_list.size:100\n",
      "32/34 [===========================>..] - ETA: 6s - loss: 0.4592 - categorical_accuracy: 0.8453num_batches:33, folder_list.size:663\n",
      "34/34 [==============================] - 105s 3s/step - loss: 0.4700 - categorical_accuracy: 0.8206 - val_loss: 0.5863 - val_categorical_accuracy: 0.7500\n",
      "\n",
      "Epoch 00007: saving model to model_init_2020-02-0818_15_45.617111/model-00007-0.47000-0.82059-0.58634-0.75000.h5\n",
      "Epoch 8/15\n",
      " 4/34 [==>...........................] - ETA: 1:42 - loss: 0.4340 - categorical_accuracy: 0.7750num_batches:5, folder_list.size:100\n",
      "32/34 [===========================>..] - ETA: 6s - loss: 0.4192 - categorical_accuracy: 0.8609num_batches:33, folder_list.size:663\n",
      "34/34 [==============================] - 105s 3s/step - loss: 0.4317 - categorical_accuracy: 0.8353 - val_loss: 0.7129 - val_categorical_accuracy: 0.7600\n",
      "\n",
      "Epoch 00008: saving model to model_init_2020-02-0818_15_45.617111/model-00008-0.43166-0.83529-0.71288-0.76000.h5\n",
      "Epoch 9/15\n",
      " 4/34 [==>...........................] - ETA: 2:00 - loss: 0.4690 - categorical_accuracy: 0.8375num_batches:5, folder_list.size:100\n",
      "32/34 [===========================>..] - ETA: 6s - loss: 0.4075 - categorical_accuracy: 0.8406num_batches:33, folder_list.size:663\n",
      "34/34 [==============================] - 104s 3s/step - loss: 0.4080 - categorical_accuracy: 0.8279 - val_loss: 0.5851 - val_categorical_accuracy: 0.7900\n",
      "\n",
      "Epoch 00009: saving model to model_init_2020-02-0818_15_45.617111/model-00009-0.40802-0.82794-0.58515-0.79000.h5\n",
      "Epoch 10/15\n",
      " 3/34 [=>............................] - ETA: 2:20 - loss: 0.3859 - categorical_accuracy: 0.8833num_batches:5, folder_list.size:100\n",
      "33/34 [============================>.] - ETA: 3s - loss: 0.3326 - categorical_accuracy: 0.8864num_batches:33, folder_list.size:663\n",
      "34/34 [==============================] - 104s 3s/step - loss: 0.3445 - categorical_accuracy: 0.8676 - val_loss: 0.5017 - val_categorical_accuracy: 0.8100\n",
      "\n",
      "Epoch 00010: saving model to model_init_2020-02-0818_15_45.617111/model-00010-0.34453-0.86765-0.50167-0.81000.h5\n",
      "Epoch 11/15\n",
      " 4/34 [==>...........................] - ETA: 1:49 - loss: 0.2169 - categorical_accuracy: 0.9000num_batches:5, folder_list.size:100\n",
      "32/34 [===========================>..] - ETA: 6s - loss: 0.3465 - categorical_accuracy: 0.8672num_batches:33, folder_list.size:663\n",
      "34/34 [==============================] - 104s 3s/step - loss: 0.3766 - categorical_accuracy: 0.8485 - val_loss: 0.4828 - val_categorical_accuracy: 0.8000\n",
      "\n",
      "Epoch 00011: saving model to model_init_2020-02-0818_15_45.617111/model-00011-0.37658-0.84853-0.48280-0.80000.h5\n",
      "Epoch 12/15\n",
      " 4/34 [==>...........................] - ETA: 1:46 - loss: 0.3156 - categorical_accuracy: 0.8875num_batches:5, folder_list.size:100\n",
      "32/34 [===========================>..] - ETA: 6s - loss: 0.2505 - categorical_accuracy: 0.9219num_batches:33, folder_list.size:663\n",
      "34/34 [==============================] - 105s 3s/step - loss: 0.2761 - categorical_accuracy: 0.8985 - val_loss: 0.4932 - val_categorical_accuracy: 0.8100\n",
      "\n",
      "Epoch 00012: saving model to model_init_2020-02-0818_15_45.617111/model-00012-0.27611-0.89853-0.49324-0.81000.h5\n",
      "Epoch 13/15\n",
      " 4/34 [==>...........................] - ETA: 1:41 - loss: 0.2502 - categorical_accuracy: 0.9000num_batches:5, folder_list.size:100\n",
      "32/34 [===========================>..] - ETA: 6s - loss: 0.2009 - categorical_accuracy: 0.9266num_batches:33, folder_list.size:663\n",
      "34/34 [==============================] - 106s 3s/step - loss: 0.2040 - categorical_accuracy: 0.9015 - val_loss: 0.6253 - val_categorical_accuracy: 0.8100\n",
      "\n",
      "Epoch 00013: saving model to model_init_2020-02-0818_15_45.617111/model-00013-0.20400-0.90147-0.62532-0.81000.h5\n",
      "Epoch 14/15\n",
      " 5/34 [===>..........................] - ETA: 1:41 - loss: 0.2431 - categorical_accuracy: 0.9300num_batches:5, folder_list.size:100\n",
      "33/34 [============================>.] - ETA: 3s - loss: 0.2091 - categorical_accuracy: 0.9242num_batches:33, folder_list.size:663\n",
      "34/34 [==============================] - 107s 3s/step - loss: 0.2218 - categorical_accuracy: 0.8971 - val_loss: 0.5863 - val_categorical_accuracy: 0.7900\n",
      "\n",
      "Epoch 00014: saving model to model_init_2020-02-0818_15_45.617111/model-00014-0.22179-0.89706-0.58626-0.79000.h5\n",
      "Epoch 15/15\n",
      " 4/34 [==>...........................] - ETA: 1:55 - loss: 0.2852 - categorical_accuracy: 0.9250num_batches:5, folder_list.size:100\n",
      "32/34 [===========================>..] - ETA: 6s - loss: 0.1864 - categorical_accuracy: 0.9422num_batches:33, folder_list.size:663\n",
      "34/34 [==============================] - 104s 3s/step - loss: 0.2148 - categorical_accuracy: 0.9206 - val_loss: 0.4194 - val_categorical_accuracy: 0.8700\n",
      "\n",
      "Epoch 00015: saving model to model_init_2020-02-0818_15_45.617111/model-00015-0.21484-0.92059-0.41936-0.87000.h5\n"
     ]
    }
   ],
   "source": [
    "history=model.fit_generator(train_generator, steps_per_epoch=steps_per_epoch, epochs=num_epochs, verbose=1, \n",
    "                    callbacks=callbacks_list, validation_data=val_generator, \n",
    "                    validation_steps=validation_steps, class_weight=None, workers=1, initial_epoch=0)"
   ]
  },
  {
   "cell_type": "code",
   "execution_count": 54,
   "metadata": {},
   "outputs": [],
   "source": [
    "#history.history"
   ]
  },
  {
   "cell_type": "code",
   "execution_count": 55,
   "metadata": {},
   "outputs": [
    {
     "name": "stderr",
     "output_type": "stream",
     "text": [
      "C:\\Users\\reddi\\Anaconda3\\envs\\tensorflow\\lib\\site-packages\\ipykernel_launcher.py:20: DeprecationWarning: `imresize` is deprecated!\n",
      "`imresize` is deprecated in SciPy 1.0.0, and will be removed in 1.2.0.\n",
      "Use ``skimage.transform.resize`` instead.\n",
      "C:\\Users\\reddi\\Anaconda3\\envs\\tensorflow\\lib\\site-packages\\ipykernel_launcher.py:16: DeprecationWarning: `imread` is deprecated!\n",
      "`imread` is deprecated in SciPy 1.0.0, and will be removed in 1.2.0.\n",
      "Use ``imageio.imread`` instead.\n",
      "  app.launch_new_instance()\n",
      "C:\\Users\\reddi\\Anaconda3\\envs\\tensorflow\\lib\\site-packages\\ipykernel_launcher.py:20: DeprecationWarning: `imresize` is deprecated!\n",
      "`imresize` is deprecated in SciPy 1.0.0, and will be removed in 1.2.0.\n",
      "Use ``skimage.transform.resize`` instead.\n"
     ]
    },
    {
     "data": {
      "image/png": "[encoded data removed]",
      "text/plain": [
       "<Figure size 432x288 with 1 Axes>"
      ]
     },
     "metadata": {
      "needs_background": "light"
     },
     "output_type": "display_data"
    },
    {
     "data": {
      "image/png": "[encoded data removed]",
      "text/plain": [
       "<Figure size 432x288 with 1 Axes>"
      ]
     },
     "metadata": {
      "needs_background": "light"
     },
     "output_type": "display_data"
    }
   ],
   "source": [
    "# summarize history for accuracy\n",
    "plt.plot(history.history['categorical_accuracy'])\n",
    "plt.plot(history.history['val_categorical_accuracy'])\n",
    "plt.title('model accuracy')\n",
    "plt.ylabel('accuracy')\n",
    "plt.xlabel('epoch')\n",
    "plt.legend(['train', 'test'], loc='upper left')\n",
    "plt.show()\n",
    "# summarize history for loss\n",
    "plt.plot(history.history['loss'])\n",
    "plt.plot(history.history['val_loss'])\n",
    "plt.title('model loss')\n",
    "plt.ylabel('loss')\n",
    "plt.xlabel('epoch')\n",
    "plt.legend(['train', 'test'], loc='upper left')\n",
    "plt.show()"
   ]
  },
  {
   "cell_type": "code",
   "execution_count": null,
   "metadata": {},
   "outputs": [],
   "source": []
  }
 ],
 "metadata": {
  "kernelspec": {
   "display_name": "Python 3",
   "language": "python",
   "name": "python3"
  },
  "language_info": {
   "codemirror_mode": {
    "name": "ipython",
    "version": 3
   },
   "file_extension": ".py",
   "mimetype": "text/x-python",
   "name": "python",
   "nbconvert_exporter": "python",
   "pygments_lexer": "ipython3",
   "version": "3.6.10"
  }
 },
 "nbformat": 4,
 "nbformat_minor": 2
}
